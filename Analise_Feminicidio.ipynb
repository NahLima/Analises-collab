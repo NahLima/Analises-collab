{
  "nbformat": 4,
  "nbformat_minor": 0,
  "metadata": {
    "colab": {
      "name": "Analise-Feminicidio",
      "provenance": [],
      "collapsed_sections": []
    },
    "kernelspec": {
      "name": "python3",
      "display_name": "Python 3"
    },
    "language_info": {
      "name": "python"
    }
  },
  "cells": [
    {
      "cell_type": "code",
      "metadata": {
        "id": "JDwNGlrKebtE"
      },
      "source": [
        "pip install pmdarima # Instalando a lib para o autoarimma"
      ],
      "execution_count": null,
      "outputs": []
    },
    {
      "cell_type": "code",
      "metadata": {
        "id": "PyFnXNaAAfjR"
      },
      "source": [
        "# Request é uma lib usada para request https\n",
        "import requests\n",
        "\n",
        "# Soup é a lib usada para scraping\n",
        "from bs4 import BeautifulSoup\n",
        "\n",
        "# Lib para modelagem de Dados\n",
        "import pandas as pd\n",
        "\n",
        "# Biblioteca para recursos de Data\n",
        "import datetime\n",
        "from dateutil.relativedelta import relativedelta\n",
        "\n",
        "# Lib para visualização gráfica\n",
        "import plotly.graph_objects as Dash\n",
        "\n",
        "# Bibliotecas de plotagem de dados\n",
        "import seaborn as sns\n",
        "import matplotlib.pyplot as plt"
      ],
      "execution_count": 4,
      "outputs": []
    },
    {
      "cell_type": "code",
      "metadata": {
        "id": "HJvVU18oAiba"
      },
      "source": [
        "# Carregando a pagina\n",
        "\n",
        "# Salvar o link da pagina\n",
        "Site = 'http://www.ssp.sp.gov.br/Estatistica/ViolenciaMulher.aspx'\n",
        "\n",
        "# Fazendo o carregando da pagina atraves do Request\n",
        "Pagina = requests.get(Site)"
      ],
      "execution_count": 5,
      "outputs": []
    },
    {
      "cell_type": "code",
      "metadata": {
        "id": "kOAlkoCCAl-J"
      },
      "source": [
        "# Coletando as infos do request e passar para o Soup os dados\n",
        "Coleta = BeautifulSoup(Pagina.text, 'html.parser')"
      ],
      "execution_count": 6,
      "outputs": []
    },
    {
      "cell_type": "code",
      "metadata": {
        "colab": {
          "base_uri": "https://localhost:8080/"
        },
        "id": "qh_AxC6OApoD",
        "outputId": "55881746-680e-4878-fcb0-fee462f4eb5c"
      },
      "source": [
        "# Coletando o titulo da Pagina\n",
        "print( Coleta.title )"
      ],
      "execution_count": 7,
      "outputs": [
        {
          "output_type": "stream",
          "name": "stdout",
          "text": [
            "<title>\r\n",
            "\tSSP\r\n",
            "</title>\n"
          ]
        }
      ]
    },
    {
      "cell_type": "code",
      "metadata": {
        "colab": {
          "base_uri": "https://localhost:8080/"
        },
        "id": "TGSQqzwXAr4s",
        "outputId": "a7683dff-3932-4b3a-e596-1124c6260783"
      },
      "source": [
        "# Colando informações das Tabelas\n",
        "Tabelas = Coleta.find_all('table', attrs={'class':'table table-striped table-hover table-condensed'})\n",
        "\n",
        "# Verificando as Tabelas localizadas\n",
        "print( 'Localizado:', len(Tabelas), 'tabelas' )"
      ],
      "execution_count": 8,
      "outputs": [
        {
          "output_type": "stream",
          "name": "stdout",
          "text": [
            "Localizado: 119 tabelas\n"
          ]
        }
      ]
    },
    {
      "cell_type": "code",
      "metadata": {
        "colab": {
          "base_uri": "https://localhost:8080/",
          "height": 203
        },
        "id": "7O8dwIUiS9zI",
        "outputId": "a47c72c0-1b1f-4aad-a3b6-f1b65ef473a5"
      },
      "source": [
        "# Lista para salvar os dados\n",
        "Rotulos = []\n",
        "Dados = []\n",
        "Periodos = []\n",
        "\n",
        "# Qual o utlimo registro da Tabela\n",
        "Registro_Inicial = datetime.datetime(2021, 7, 1)\n",
        "\n",
        "# Variavel para somar pular os meses\n",
        "Loop = 0\n",
        "\n",
        "# Loop para filtrar as informações\n",
        "for Consulta in Tabelas:\n",
        "\n",
        "  # Filtrar a Linha da Tabela\n",
        "  Linha = Consulta.find_all('tr')[2]\n",
        "\n",
        "  # Filtrar o rotulo da Tabela\n",
        "  Rotulo = Linha.find_all('td')[0].text\n",
        "\n",
        "  # Filtrar a informação Geral\n",
        "  Informação = Linha.find_all('span')[0].text\n",
        "\n",
        "  # Calculando a data de registro\n",
        "  Data = Registro_Inicial - relativedelta(months=Loop)\n",
        "\n",
        "  # Caso o conteudo seja Feminicidio\n",
        "  if Rotulo == 'FEMINICÍDIO':\n",
        "    Rotulos.append( Rotulo )\n",
        "    Dados.append( Informação )\n",
        "    Periodos.append( Data )\n",
        "\n",
        "  # Ignorando caso seja diferente\n",
        "  else:\n",
        "    pass\n",
        "\n",
        "  # Somando o Loop para dar o Desagiu no Mes\n",
        "  Loop = Loop + 1\n",
        "\n",
        "# Organizando em um Dicionario os Dados\n",
        "Dicionario = {\n",
        "    'Rotulo' : Rotulos,\n",
        "    'Quantidade' : Dados,\n",
        "    'Periodo' : Periodos\n",
        "}\n",
        "\n",
        "# Passando o dicionario como base de dados\n",
        "Base_Feminicídio = pd.DataFrame( Dicionario )\n",
        "\n",
        "# Verificando as primeiras Linhas\n",
        "Base_Feminicídio.head()"
      ],
      "execution_count": 9,
      "outputs": [
        {
          "output_type": "execute_result",
          "data": {
            "text/html": [
              "<div>\n",
              "<style scoped>\n",
              "    .dataframe tbody tr th:only-of-type {\n",
              "        vertical-align: middle;\n",
              "    }\n",
              "\n",
              "    .dataframe tbody tr th {\n",
              "        vertical-align: top;\n",
              "    }\n",
              "\n",
              "    .dataframe thead th {\n",
              "        text-align: right;\n",
              "    }\n",
              "</style>\n",
              "<table border=\"1\" class=\"dataframe\">\n",
              "  <thead>\n",
              "    <tr style=\"text-align: right;\">\n",
              "      <th></th>\n",
              "      <th>Rotulo</th>\n",
              "      <th>Quantidade</th>\n",
              "      <th>Periodo</th>\n",
              "    </tr>\n",
              "  </thead>\n",
              "  <tbody>\n",
              "    <tr>\n",
              "      <th>0</th>\n",
              "      <td>FEMINICÍDIO</td>\n",
              "      <td>8</td>\n",
              "      <td>2021-07-01</td>\n",
              "    </tr>\n",
              "    <tr>\n",
              "      <th>1</th>\n",
              "      <td>FEMINICÍDIO</td>\n",
              "      <td>7</td>\n",
              "      <td>2021-06-01</td>\n",
              "    </tr>\n",
              "    <tr>\n",
              "      <th>2</th>\n",
              "      <td>FEMINICÍDIO</td>\n",
              "      <td>26</td>\n",
              "      <td>2021-05-01</td>\n",
              "    </tr>\n",
              "    <tr>\n",
              "      <th>3</th>\n",
              "      <td>FEMINICÍDIO</td>\n",
              "      <td>10</td>\n",
              "      <td>2021-04-01</td>\n",
              "    </tr>\n",
              "    <tr>\n",
              "      <th>4</th>\n",
              "      <td>FEMINICÍDIO</td>\n",
              "      <td>21</td>\n",
              "      <td>2021-03-01</td>\n",
              "    </tr>\n",
              "  </tbody>\n",
              "</table>\n",
              "</div>"
            ],
            "text/plain": [
              "        Rotulo Quantidade    Periodo\n",
              "0  FEMINICÍDIO          8 2021-07-01\n",
              "1  FEMINICÍDIO          7 2021-06-01\n",
              "2  FEMINICÍDIO         26 2021-05-01\n",
              "3  FEMINICÍDIO         10 2021-04-01\n",
              "4  FEMINICÍDIO         21 2021-03-01"
            ]
          },
          "metadata": {},
          "execution_count": 9
        }
      ]
    },
    {
      "cell_type": "code",
      "metadata": {
        "id": "RdHODtK0bPKu"
      },
      "source": [
        "# Definir a coluna Data como Index do DataSet\n",
        "Base_Feminicídio = Base_Feminicídio.set_index('Periodo')\n",
        "\n",
        "# Ordenar a Data\n",
        "Base_Feminicídio = Base_Feminicídio.sort_values(by='Periodo')"
      ],
      "execution_count": 10,
      "outputs": []
    },
    {
      "cell_type": "code",
      "metadata": {
        "colab": {
          "base_uri": "https://localhost:8080/"
        },
        "id": "68NS1UQAdBV8",
        "outputId": "0f754a93-32f0-4b57-e2ab-5b87b7e67dad"
      },
      "source": [
        "# Verificando tipo das colunas\n",
        "Base_Feminicídio.info()"
      ],
      "execution_count": 11,
      "outputs": [
        {
          "output_type": "stream",
          "name": "stdout",
          "text": [
            "<class 'pandas.core.frame.DataFrame'>\n",
            "DatetimeIndex: 43 entries, 2018-01-01 to 2021-07-01\n",
            "Data columns (total 2 columns):\n",
            " #   Column      Non-Null Count  Dtype \n",
            "---  ------      --------------  ----- \n",
            " 0   Rotulo      43 non-null     object\n",
            " 1   Quantidade  43 non-null     object\n",
            "dtypes: object(2)\n",
            "memory usage: 1.0+ KB\n"
          ]
        }
      ]
    },
    {
      "cell_type": "code",
      "metadata": {
        "id": "WI_QcYW6dP75"
      },
      "source": [
        "# Convertendo a coluna para inteiro\n",
        "Base_Feminicídio['Quantidade'] = pd.to_numeric( Base_Feminicídio['Quantidade'] )"
      ],
      "execution_count": 12,
      "outputs": []
    },
    {
      "cell_type": "code",
      "metadata": {
        "colab": {
          "base_uri": "https://localhost:8080/",
          "height": 517
        },
        "id": "d2pOgzbQYRAF",
        "outputId": "e4cb6ec9-08a8-4ada-8c82-fd3ad68d0272"
      },
      "source": [
        "# Criando um Gráfico Dinâmico\n",
        "# No gráfico é possivel filtrar pela legenda a informação\n",
        "# Utlizar zoons\n",
        "\n",
        "# Definindo uma figura\n",
        "Figura = Dash.Figure()\n",
        "\n",
        "# Incluindo o Eixo no Gráfico - Abertura\n",
        "Figura.add_trace(Dash.Scatter(x = Base_Feminicídio.index, y = Base_Feminicídio.Quantidade, \n",
        "                    mode='lines',\n",
        "                    name='Quantidade',\n",
        "                    marker_color = '#FF7F0E',))\n",
        "\n",
        "# Modificando o Layout do Gráfico\n",
        "Figura.update_layout(\n",
        "    title='Histórico de Feminicídio - Estado de São Paulo', # Titulo\n",
        "    titlefont_size = 28, # Tamanho da Fonte\n",
        "    \n",
        "    # Parametros para mexer no eixo X\n",
        "    xaxis = dict( \n",
        "        title='Período Histórico', # Titulo do Eixo x\n",
        "        titlefont_size=16, # Tamanho fonte do Titulo \n",
        "        tickfont_size=14), # Tamanho da fonte do eixo \n",
        "\n",
        "    # Tamanho do Grafico\n",
        "    height = 500, \n",
        "    \n",
        "    # Parametros para mexer no eixo y\n",
        "    yaxis=dict(\n",
        "        title='Quantidade', # Titulo do Eixo y\n",
        "        titlefont_size=16, # Tamanho fonte do Titulo \n",
        "        tickfont_size=14), # Tamanho da fonte do eixo \n",
        "    \n",
        "    # Parametros para mexer na legenda\n",
        "    legend=dict(\n",
        "        y=1, x=1, # Posição da Legenda\n",
        "        bgcolor='rgba(255, 255, 255, 0)', # Cor de fundo\n",
        "        bordercolor='rgba(255, 255, 255, 0)')) # Cor da Bornda\n",
        "\n",
        "# Mostrando o Gráfico\n",
        "Figura.show()"
      ],
      "execution_count": 13,
      "outputs": [
        {
          "output_type": "display_data",
          "data": {
            "text/html": [
              "<html>\n",
              "<head><meta charset=\"utf-8\" /></head>\n",
              "<body>\n",
              "    <div>\n",
              "            <script src=\"https://cdnjs.cloudflare.com/ajax/libs/mathjax/2.7.5/MathJax.js?config=TeX-AMS-MML_SVG\"></script><script type=\"text/javascript\">if (window.MathJax) {MathJax.Hub.Config({SVG: {font: \"STIX-Web\"}});}</script>\n",
              "                <script type=\"text/javascript\">window.PlotlyConfig = {MathJaxConfig: 'local'};</script>\n",
              "        <script src=\"https://cdn.plot.ly/plotly-latest.min.js\"></script>    \n",
              "            <div id=\"b3be3950-70ce-4e6b-bdc9-fed8aceac6e8\" class=\"plotly-graph-div\" style=\"height:500px; width:100%;\"></div>\n",
              "            <script type=\"text/javascript\">\n",
              "                \n",
              "                    window.PLOTLYENV=window.PLOTLYENV || {};\n",
              "                    \n",
              "                if (document.getElementById(\"b3be3950-70ce-4e6b-bdc9-fed8aceac6e8\")) {\n",
              "                    Plotly.newPlot(\n",
              "                        'b3be3950-70ce-4e6b-bdc9-fed8aceac6e8',\n",
              "                        [{\"marker\": {\"color\": \"#FF7F0E\"}, \"mode\": \"lines\", \"name\": \"Quantidade\", \"type\": \"scatter\", \"x\": [\"2018-01-01T00:00:00\", \"2018-02-01T00:00:00\", \"2018-03-01T00:00:00\", \"2018-04-01T00:00:00\", \"2018-05-01T00:00:00\", \"2018-06-01T00:00:00\", \"2018-07-01T00:00:00\", \"2018-08-01T00:00:00\", \"2018-09-01T00:00:00\", \"2018-10-01T00:00:00\", \"2018-11-01T00:00:00\", \"2018-12-01T00:00:00\", \"2019-01-01T00:00:00\", \"2019-02-01T00:00:00\", \"2019-03-01T00:00:00\", \"2019-04-01T00:00:00\", \"2019-05-01T00:00:00\", \"2019-06-01T00:00:00\", \"2019-07-01T00:00:00\", \"2019-08-01T00:00:00\", \"2019-09-01T00:00:00\", \"2019-10-01T00:00:00\", \"2019-11-01T00:00:00\", \"2019-12-01T00:00:00\", \"2020-01-01T00:00:00\", \"2020-02-01T00:00:00\", \"2020-03-01T00:00:00\", \"2020-04-01T00:00:00\", \"2020-05-01T00:00:00\", \"2020-06-01T00:00:00\", \"2020-07-01T00:00:00\", \"2020-08-01T00:00:00\", \"2020-09-01T00:00:00\", \"2020-10-01T00:00:00\", \"2020-11-01T00:00:00\", \"2020-12-01T00:00:00\", \"2021-01-01T00:00:00\", \"2021-02-01T00:00:00\", \"2021-03-01T00:00:00\", \"2021-04-01T00:00:00\", \"2021-05-01T00:00:00\", \"2021-06-01T00:00:00\", \"2021-07-01T00:00:00\"], \"y\": [5, 8, 8, 14, 16, 6, 16, 11, 11, 17, 9, 15, 14, 12, 13, 16, 19, 11, 5, 13, 19, 18, 17, 27, 12, 18, 20, 21, 9, 8, 13, 8, 17, 14, 20, 19, 11, 11, 21, 10, 26, 7, 8]}],\n",
              "                        {\"height\": 500, \"legend\": {\"bgcolor\": \"rgba(255, 255, 255, 0)\", \"bordercolor\": \"rgba(255, 255, 255, 0)\", \"x\": 1, \"y\": 1}, \"template\": {\"data\": {\"bar\": [{\"error_x\": {\"color\": \"#2a3f5f\"}, \"error_y\": {\"color\": \"#2a3f5f\"}, \"marker\": {\"line\": {\"color\": \"#E5ECF6\", \"width\": 0.5}}, \"type\": \"bar\"}], \"barpolar\": [{\"marker\": {\"line\": {\"color\": \"#E5ECF6\", \"width\": 0.5}}, \"type\": \"barpolar\"}], \"carpet\": [{\"aaxis\": {\"endlinecolor\": \"#2a3f5f\", \"gridcolor\": \"white\", \"linecolor\": \"white\", \"minorgridcolor\": \"white\", \"startlinecolor\": \"#2a3f5f\"}, \"baxis\": {\"endlinecolor\": \"#2a3f5f\", \"gridcolor\": \"white\", \"linecolor\": \"white\", \"minorgridcolor\": \"white\", \"startlinecolor\": \"#2a3f5f\"}, \"type\": \"carpet\"}], \"choropleth\": [{\"colorbar\": {\"outlinewidth\": 0, \"ticks\": \"\"}, \"type\": \"choropleth\"}], \"contour\": [{\"colorbar\": {\"outlinewidth\": 0, \"ticks\": \"\"}, \"colorscale\": [[0.0, \"#0d0887\"], [0.1111111111111111, \"#46039f\"], [0.2222222222222222, \"#7201a8\"], [0.3333333333333333, \"#9c179e\"], [0.4444444444444444, \"#bd3786\"], [0.5555555555555556, \"#d8576b\"], [0.6666666666666666, \"#ed7953\"], [0.7777777777777778, \"#fb9f3a\"], [0.8888888888888888, \"#fdca26\"], [1.0, \"#f0f921\"]], \"type\": \"contour\"}], \"contourcarpet\": [{\"colorbar\": {\"outlinewidth\": 0, \"ticks\": \"\"}, \"type\": \"contourcarpet\"}], \"heatmap\": [{\"colorbar\": {\"outlinewidth\": 0, \"ticks\": \"\"}, \"colorscale\": [[0.0, \"#0d0887\"], [0.1111111111111111, \"#46039f\"], [0.2222222222222222, \"#7201a8\"], [0.3333333333333333, \"#9c179e\"], [0.4444444444444444, \"#bd3786\"], [0.5555555555555556, \"#d8576b\"], [0.6666666666666666, \"#ed7953\"], [0.7777777777777778, \"#fb9f3a\"], [0.8888888888888888, \"#fdca26\"], [1.0, \"#f0f921\"]], \"type\": \"heatmap\"}], \"heatmapgl\": [{\"colorbar\": {\"outlinewidth\": 0, \"ticks\": \"\"}, \"colorscale\": [[0.0, \"#0d0887\"], [0.1111111111111111, \"#46039f\"], [0.2222222222222222, \"#7201a8\"], [0.3333333333333333, \"#9c179e\"], [0.4444444444444444, \"#bd3786\"], [0.5555555555555556, \"#d8576b\"], [0.6666666666666666, \"#ed7953\"], [0.7777777777777778, \"#fb9f3a\"], [0.8888888888888888, \"#fdca26\"], [1.0, \"#f0f921\"]], \"type\": \"heatmapgl\"}], \"histogram\": [{\"marker\": {\"colorbar\": {\"outlinewidth\": 0, \"ticks\": \"\"}}, \"type\": \"histogram\"}], \"histogram2d\": [{\"colorbar\": {\"outlinewidth\": 0, \"ticks\": \"\"}, \"colorscale\": [[0.0, \"#0d0887\"], [0.1111111111111111, \"#46039f\"], [0.2222222222222222, \"#7201a8\"], [0.3333333333333333, \"#9c179e\"], [0.4444444444444444, \"#bd3786\"], [0.5555555555555556, \"#d8576b\"], [0.6666666666666666, \"#ed7953\"], [0.7777777777777778, \"#fb9f3a\"], [0.8888888888888888, \"#fdca26\"], [1.0, \"#f0f921\"]], \"type\": \"histogram2d\"}], \"histogram2dcontour\": [{\"colorbar\": {\"outlinewidth\": 0, \"ticks\": \"\"}, \"colorscale\": [[0.0, \"#0d0887\"], [0.1111111111111111, \"#46039f\"], [0.2222222222222222, \"#7201a8\"], [0.3333333333333333, \"#9c179e\"], [0.4444444444444444, \"#bd3786\"], [0.5555555555555556, \"#d8576b\"], [0.6666666666666666, \"#ed7953\"], [0.7777777777777778, \"#fb9f3a\"], [0.8888888888888888, \"#fdca26\"], [1.0, \"#f0f921\"]], \"type\": \"histogram2dcontour\"}], \"mesh3d\": [{\"colorbar\": {\"outlinewidth\": 0, \"ticks\": \"\"}, \"type\": \"mesh3d\"}], \"parcoords\": [{\"line\": {\"colorbar\": {\"outlinewidth\": 0, \"ticks\": \"\"}}, \"type\": \"parcoords\"}], \"pie\": [{\"automargin\": true, \"type\": \"pie\"}], \"scatter\": [{\"marker\": {\"colorbar\": {\"outlinewidth\": 0, \"ticks\": \"\"}}, \"type\": \"scatter\"}], \"scatter3d\": [{\"line\": {\"colorbar\": {\"outlinewidth\": 0, \"ticks\": \"\"}}, \"marker\": {\"colorbar\": {\"outlinewidth\": 0, \"ticks\": \"\"}}, \"type\": \"scatter3d\"}], \"scattercarpet\": [{\"marker\": {\"colorbar\": {\"outlinewidth\": 0, \"ticks\": \"\"}}, \"type\": \"scattercarpet\"}], \"scattergeo\": [{\"marker\": {\"colorbar\": {\"outlinewidth\": 0, \"ticks\": \"\"}}, \"type\": \"scattergeo\"}], \"scattergl\": [{\"marker\": {\"colorbar\": {\"outlinewidth\": 0, \"ticks\": \"\"}}, \"type\": \"scattergl\"}], \"scattermapbox\": [{\"marker\": {\"colorbar\": {\"outlinewidth\": 0, \"ticks\": \"\"}}, \"type\": \"scattermapbox\"}], \"scatterpolar\": [{\"marker\": {\"colorbar\": {\"outlinewidth\": 0, \"ticks\": \"\"}}, \"type\": \"scatterpolar\"}], \"scatterpolargl\": [{\"marker\": {\"colorbar\": {\"outlinewidth\": 0, \"ticks\": \"\"}}, \"type\": \"scatterpolargl\"}], \"scatterternary\": [{\"marker\": {\"colorbar\": {\"outlinewidth\": 0, \"ticks\": \"\"}}, \"type\": \"scatterternary\"}], \"surface\": [{\"colorbar\": {\"outlinewidth\": 0, \"ticks\": \"\"}, \"colorscale\": [[0.0, \"#0d0887\"], [0.1111111111111111, \"#46039f\"], [0.2222222222222222, \"#7201a8\"], [0.3333333333333333, \"#9c179e\"], [0.4444444444444444, \"#bd3786\"], [0.5555555555555556, \"#d8576b\"], [0.6666666666666666, \"#ed7953\"], [0.7777777777777778, \"#fb9f3a\"], [0.8888888888888888, \"#fdca26\"], [1.0, \"#f0f921\"]], \"type\": \"surface\"}], \"table\": [{\"cells\": {\"fill\": {\"color\": \"#EBF0F8\"}, \"line\": {\"color\": \"white\"}}, \"header\": {\"fill\": {\"color\": \"#C8D4E3\"}, \"line\": {\"color\": \"white\"}}, \"type\": \"table\"}]}, \"layout\": {\"annotationdefaults\": {\"arrowcolor\": \"#2a3f5f\", \"arrowhead\": 0, \"arrowwidth\": 1}, \"coloraxis\": {\"colorbar\": {\"outlinewidth\": 0, \"ticks\": \"\"}}, \"colorscale\": {\"diverging\": [[0, \"#8e0152\"], [0.1, \"#c51b7d\"], [0.2, \"#de77ae\"], [0.3, \"#f1b6da\"], [0.4, \"#fde0ef\"], [0.5, \"#f7f7f7\"], [0.6, \"#e6f5d0\"], [0.7, \"#b8e186\"], [0.8, \"#7fbc41\"], [0.9, \"#4d9221\"], [1, \"#276419\"]], \"sequential\": [[0.0, \"#0d0887\"], [0.1111111111111111, \"#46039f\"], [0.2222222222222222, \"#7201a8\"], [0.3333333333333333, \"#9c179e\"], [0.4444444444444444, \"#bd3786\"], [0.5555555555555556, \"#d8576b\"], [0.6666666666666666, \"#ed7953\"], [0.7777777777777778, \"#fb9f3a\"], [0.8888888888888888, \"#fdca26\"], [1.0, \"#f0f921\"]], \"sequentialminus\": [[0.0, \"#0d0887\"], [0.1111111111111111, \"#46039f\"], [0.2222222222222222, \"#7201a8\"], [0.3333333333333333, \"#9c179e\"], [0.4444444444444444, \"#bd3786\"], [0.5555555555555556, \"#d8576b\"], [0.6666666666666666, \"#ed7953\"], [0.7777777777777778, \"#fb9f3a\"], [0.8888888888888888, \"#fdca26\"], [1.0, \"#f0f921\"]]}, \"colorway\": [\"#636efa\", \"#EF553B\", \"#00cc96\", \"#ab63fa\", \"#FFA15A\", \"#19d3f3\", \"#FF6692\", \"#B6E880\", \"#FF97FF\", \"#FECB52\"], \"font\": {\"color\": \"#2a3f5f\"}, \"geo\": {\"bgcolor\": \"white\", \"lakecolor\": \"white\", \"landcolor\": \"#E5ECF6\", \"showlakes\": true, \"showland\": true, \"subunitcolor\": \"white\"}, \"hoverlabel\": {\"align\": \"left\"}, \"hovermode\": \"closest\", \"mapbox\": {\"style\": \"light\"}, \"paper_bgcolor\": \"white\", \"plot_bgcolor\": \"#E5ECF6\", \"polar\": {\"angularaxis\": {\"gridcolor\": \"white\", \"linecolor\": \"white\", \"ticks\": \"\"}, \"bgcolor\": \"#E5ECF6\", \"radialaxis\": {\"gridcolor\": \"white\", \"linecolor\": \"white\", \"ticks\": \"\"}}, \"scene\": {\"xaxis\": {\"backgroundcolor\": \"#E5ECF6\", \"gridcolor\": \"white\", \"gridwidth\": 2, \"linecolor\": \"white\", \"showbackground\": true, \"ticks\": \"\", \"zerolinecolor\": \"white\"}, \"yaxis\": {\"backgroundcolor\": \"#E5ECF6\", \"gridcolor\": \"white\", \"gridwidth\": 2, \"linecolor\": \"white\", \"showbackground\": true, \"ticks\": \"\", \"zerolinecolor\": \"white\"}, \"zaxis\": {\"backgroundcolor\": \"#E5ECF6\", \"gridcolor\": \"white\", \"gridwidth\": 2, \"linecolor\": \"white\", \"showbackground\": true, \"ticks\": \"\", \"zerolinecolor\": \"white\"}}, \"shapedefaults\": {\"line\": {\"color\": \"#2a3f5f\"}}, \"ternary\": {\"aaxis\": {\"gridcolor\": \"white\", \"linecolor\": \"white\", \"ticks\": \"\"}, \"baxis\": {\"gridcolor\": \"white\", \"linecolor\": \"white\", \"ticks\": \"\"}, \"bgcolor\": \"#E5ECF6\", \"caxis\": {\"gridcolor\": \"white\", \"linecolor\": \"white\", \"ticks\": \"\"}}, \"title\": {\"x\": 0.05}, \"xaxis\": {\"automargin\": true, \"gridcolor\": \"white\", \"linecolor\": \"white\", \"ticks\": \"\", \"title\": {\"standoff\": 15}, \"zerolinecolor\": \"white\", \"zerolinewidth\": 2}, \"yaxis\": {\"automargin\": true, \"gridcolor\": \"white\", \"linecolor\": \"white\", \"ticks\": \"\", \"title\": {\"standoff\": 15}, \"zerolinecolor\": \"white\", \"zerolinewidth\": 2}}}, \"title\": {\"font\": {\"size\": 28}, \"text\": \"Hist\\u00f3rico de Feminic\\u00eddio - Estado de S\\u00e3o Paulo\"}, \"xaxis\": {\"tickfont\": {\"size\": 14}, \"title\": {\"font\": {\"size\": 16}, \"text\": \"Per\\u00edodo Hist\\u00f3rico\"}}, \"yaxis\": {\"tickfont\": {\"size\": 14}, \"title\": {\"font\": {\"size\": 16}, \"text\": \"Quantidade\"}}},\n",
              "                        {\"responsive\": true}\n",
              "                    ).then(function(){\n",
              "                            \n",
              "var gd = document.getElementById('b3be3950-70ce-4e6b-bdc9-fed8aceac6e8');\n",
              "var x = new MutationObserver(function (mutations, observer) {{\n",
              "        var display = window.getComputedStyle(gd).display;\n",
              "        if (!display || display === 'none') {{\n",
              "            console.log([gd, 'removed!']);\n",
              "            Plotly.purge(gd);\n",
              "            observer.disconnect();\n",
              "        }}\n",
              "}});\n",
              "\n",
              "// Listen for the removal of the full notebook cells\n",
              "var notebookContainer = gd.closest('#notebook-container');\n",
              "if (notebookContainer) {{\n",
              "    x.observe(notebookContainer, {childList: true});\n",
              "}}\n",
              "\n",
              "// Listen for the clearing of the current output cell\n",
              "var outputEl = gd.closest('.output');\n",
              "if (outputEl) {{\n",
              "    x.observe(outputEl, {childList: true});\n",
              "}}\n",
              "\n",
              "                        })\n",
              "                };\n",
              "                \n",
              "            </script>\n",
              "        </div>\n",
              "</body>\n",
              "</html>"
            ]
          },
          "metadata": {}
        }
      ]
    },
    {
      "cell_type": "code",
      "metadata": {
        "colab": {
          "base_uri": "https://localhost:8080/"
        },
        "id": "QmRCY1Cq5eMj",
        "outputId": "45f13b7d-0a6f-4c35-ebed-84519acc6583"
      },
      "source": [
        "# Importar a função Auto Arima\n",
        "from pmdarima.arima import auto_arima\n",
        "\n",
        "# Criando a função do auto_Arima\n",
        "Funcao_Auto_Arima = auto_arima(\n",
        "    # Dados para treinar o modelo\n",
        "    Base_Feminicídio['Quantidade'],\n",
        "    # Periodo de inicio\n",
        "    start_p=1, start_q=1,\n",
        "    # Maior valor para o periodo de inicio\n",
        "    max_p=6, max_q=6,\n",
        "    # período para diferenciação sazonal\n",
        "    m=12,\n",
        "    # ordem da parte autorregressiva do modelo sazonal \n",
        "    start_P=0,\n",
        "    # Periodo Sacional\n",
        "    seasonal=True,\n",
        "    # ordem da primeira diferença\n",
        "    d=1,\n",
        "    # ordem da diferenciação sazonal\n",
        "    D=1,\n",
        "    # Visualizar a saida serie\n",
        "    trace=True,\n",
        "    # ignorar erros\n",
        "    error_action='ignore',\n",
        "    # Buscar o melhor de forma rapida\n",
        "    # Se utilizar como False - será utilizando força bruta no modelo\n",
        "    # Normalmente como False se tem resultados melhor\n",
        "    stepwise=True\n",
        ")"
      ],
      "execution_count": 14,
      "outputs": [
        {
          "output_type": "stream",
          "name": "stdout",
          "text": [
            "Performing stepwise search to minimize aic\n",
            " ARIMA(1,1,1)(0,1,1)[12]             : AIC=inf, Time=0.46 sec\n",
            " ARIMA(0,1,0)(0,1,0)[12]             : AIC=225.728, Time=0.02 sec\n",
            " ARIMA(1,1,0)(1,1,0)[12]             : AIC=207.429, Time=0.14 sec\n",
            " ARIMA(0,1,1)(0,1,1)[12]             : AIC=inf, Time=0.21 sec\n",
            " ARIMA(1,1,0)(0,1,0)[12]             : AIC=216.636, Time=0.02 sec\n",
            " ARIMA(1,1,0)(2,1,0)[12]             : AIC=209.039, Time=0.32 sec\n",
            " ARIMA(1,1,0)(1,1,1)[12]             : AIC=209.038, Time=0.20 sec\n",
            " ARIMA(1,1,0)(0,1,1)[12]             : AIC=inf, Time=0.23 sec\n",
            " ARIMA(1,1,0)(2,1,1)[12]             : AIC=211.038, Time=0.39 sec\n",
            " ARIMA(0,1,0)(1,1,0)[12]             : AIC=219.805, Time=0.06 sec\n",
            " ARIMA(2,1,0)(1,1,0)[12]             : AIC=204.516, Time=0.13 sec\n",
            " ARIMA(2,1,0)(0,1,0)[12]             : AIC=211.763, Time=0.05 sec\n",
            " ARIMA(2,1,0)(2,1,0)[12]             : AIC=205.610, Time=0.45 sec\n",
            " ARIMA(2,1,0)(1,1,1)[12]             : AIC=205.593, Time=0.35 sec\n",
            " ARIMA(2,1,0)(0,1,1)[12]             : AIC=inf, Time=0.37 sec\n",
            " ARIMA(2,1,0)(2,1,1)[12]             : AIC=inf, Time=1.50 sec\n",
            " ARIMA(3,1,0)(1,1,0)[12]             : AIC=205.217, Time=0.15 sec\n",
            " ARIMA(2,1,1)(1,1,0)[12]             : AIC=204.860, Time=0.22 sec\n",
            " ARIMA(1,1,1)(1,1,0)[12]             : AIC=202.905, Time=0.31 sec\n",
            " ARIMA(1,1,1)(0,1,0)[12]             : AIC=208.337, Time=0.10 sec\n",
            " ARIMA(1,1,1)(2,1,0)[12]             : AIC=204.260, Time=0.80 sec\n",
            " ARIMA(1,1,1)(1,1,1)[12]             : AIC=204.260, Time=0.51 sec\n",
            " ARIMA(1,1,1)(2,1,1)[12]             : AIC=206.260, Time=0.87 sec\n",
            " ARIMA(0,1,1)(1,1,0)[12]             : AIC=201.901, Time=0.12 sec\n",
            " ARIMA(0,1,1)(0,1,0)[12]             : AIC=207.275, Time=0.03 sec\n",
            " ARIMA(0,1,1)(2,1,0)[12]             : AIC=203.166, Time=0.32 sec\n",
            " ARIMA(0,1,1)(1,1,1)[12]             : AIC=203.166, Time=0.22 sec\n",
            " ARIMA(0,1,1)(2,1,1)[12]             : AIC=205.166, Time=0.37 sec\n",
            " ARIMA(0,1,2)(1,1,0)[12]             : AIC=203.071, Time=0.16 sec\n",
            " ARIMA(1,1,2)(1,1,0)[12]             : AIC=204.886, Time=0.25 sec\n",
            " ARIMA(0,1,1)(1,1,0)[12] intercept   : AIC=inf, Time=0.35 sec\n",
            "\n",
            "Best model:  ARIMA(0,1,1)(1,1,0)[12]          \n",
            "Total fit time: 9.720 seconds\n"
          ]
        }
      ]
    },
    {
      "cell_type": "code",
      "metadata": {
        "colab": {
          "base_uri": "https://localhost:8080/"
        },
        "id": "4bM1mk9G7GcI",
        "outputId": "7699a099-d145-40a3-d85f-e750f90eb166"
      },
      "source": [
        "# Verificando a melhor performance do modelo\n",
        "print( Funcao_Auto_Arima.aic() )"
      ],
      "execution_count": 15,
      "outputs": [
        {
          "output_type": "stream",
          "name": "stdout",
          "text": [
            "201.90105185979257\n"
          ]
        }
      ]
    },
    {
      "cell_type": "code",
      "metadata": {
        "id": "vVd2a-hj7Rs6"
      },
      "source": [
        "# Definindo o tamanho da base de dados para treino\n",
        "Tamanho = int(len(Base_Feminicídio) * 0.75)\n",
        "\n",
        "# Separando os dados de Treino e Testes\n",
        "Dados_Treino, Dados_Teste = Base_Feminicídio['Quantidade'][0:Tamanho], Base_Feminicídio['Quantidade'][Tamanho:]"
      ],
      "execution_count": 16,
      "outputs": []
    },
    {
      "cell_type": "code",
      "metadata": {
        "colab": {
          "base_uri": "https://localhost:8080/"
        },
        "id": "Yrqoxrqu7vv0",
        "outputId": "2989295e-0f14-409d-c00e-0a1ef0846fac"
      },
      "source": [
        "# Treinando o Modelo com os dados de treino\n",
        "Funcao_Auto_Arima.fit( Dados_Treino )"
      ],
      "execution_count": 17,
      "outputs": [
        {
          "output_type": "execute_result",
          "data": {
            "text/plain": [
              "ARIMA(maxiter=50, method='lbfgs', order=(0, 1, 1), out_of_sample_size=0,\n",
              "      scoring='mse', scoring_args={}, seasonal_order=(1, 1, 0, 12),\n",
              "      start_params=None, suppress_warnings=True, trend=None,\n",
              "      with_intercept=False)"
            ]
          },
          "metadata": {},
          "execution_count": 17
        }
      ]
    },
    {
      "cell_type": "code",
      "metadata": {
        "id": "t2T-xe-z74t_"
      },
      "source": [
        "# Fazendo a previsão\n",
        "Previsao = Funcao_Auto_Arima.predict( n_periods=len(Dados_Teste) )\n",
        "\n",
        "# Incluindo os dados de previsão em um data frame\n",
        "Base_Previsao = pd.DataFrame( Previsao, index=Dados_Teste.index, columns=['Previsão'])"
      ],
      "execution_count": 18,
      "outputs": []
    },
    {
      "cell_type": "code",
      "metadata": {
        "colab": {
          "base_uri": "https://localhost:8080/",
          "height": 291
        },
        "id": "nsAdya6-8SS_",
        "outputId": "972dcd98-1818-4ee5-f400-7b1db62f318e"
      },
      "source": [
        "# Unindo os dados real x projetado\n",
        "Juntando_Bases = pd.concat([Dados_Teste, Base_Previsao], axis=1 )\n",
        "\n",
        "# Plotando o gráfico\n",
        "Juntando_Bases.plot();"
      ],
      "execution_count": 19,
      "outputs": [
        {
          "output_type": "display_data",
          "data": {
            "image/png": "[encoded data removed]",
            "text/plain": [
              "<Figure size 432x288 with 1 Axes>"
            ]
          },
          "metadata": {
            "needs_background": "light"
          }
        }
      ]
    },
    {
      "cell_type": "code",
      "metadata": {
        "colab": {
          "base_uri": "https://localhost:8080/",
          "height": 291
        },
        "id": "jajZcIpW9LM4",
        "outputId": "45b2c53c-ce0e-40bb-eb3c-83c3276046ed"
      },
      "source": [
        "# Unindo os dados real x projetado\n",
        "Juntando_Bases_02 = pd.concat([Base_Feminicídio['Quantidade'], Base_Previsao], axis=1 )\n",
        "\n",
        "# Plotando o gráfico\n",
        "Juntando_Bases_02.plot();"
      ],
      "execution_count": 20,
      "outputs": [
        {
          "output_type": "display_data",
          "data": {
            "image/png": "[encoded data removed]",
            "text/plain": [
              "<Figure size 432x288 with 1 Axes>"
            ]
          },
          "metadata": {
            "needs_background": "light"
          }
        }
      ]
    },
    {
      "cell_type": "code",
      "metadata": {
        "colab": {
          "base_uri": "https://localhost:8080/"
        },
        "id": "f2_qnHmr99uq",
        "outputId": "326b7f9a-171a-42d1-c77a-e58eade6190d"
      },
      "source": [
        "# Função para calcular o erro médio quadratico\n",
        "from sklearn.metrics import mean_squared_error\n",
        "\n",
        "# Calculando o erro médio do modelo\n",
        "mean_squared_error(Dados_Teste, Previsao)"
      ],
      "execution_count": 21,
      "outputs": [
        {
          "output_type": "execute_result",
          "data": {
            "text/plain": [
              "43.359828130831175"
            ]
          },
          "metadata": {},
          "execution_count": 21
        }
      ]
    },
    {
      "cell_type": "code",
      "metadata": {
        "colab": {
          "base_uri": "https://localhost:8080/"
        },
        "id": "FWBLjBc9_IBi",
        "outputId": "06c96a71-a06a-4b89-9e47-58f8e94e24b4"
      },
      "source": [
        "# --- Prevendo os próximos meses\n",
        "\n",
        "# Treinando o Modelo com os dados de treino\n",
        "Funcao_Auto_Arima.fit( Base_Feminicídio['Quantidade'] )"
      ],
      "execution_count": 22,
      "outputs": [
        {
          "output_type": "execute_result",
          "data": {
            "text/plain": [
              "ARIMA(maxiter=50, method='lbfgs', order=(0, 1, 1), out_of_sample_size=0,\n",
              "      scoring='mse', scoring_args={}, seasonal_order=(1, 1, 0, 12),\n",
              "      start_params=None, suppress_warnings=True, trend=None,\n",
              "      with_intercept=False)"
            ]
          },
          "metadata": {},
          "execution_count": 22
        }
      ]
    },
    {
      "cell_type": "code",
      "metadata": {
        "id": "6VI1HfBbB01x"
      },
      "source": [
        "# Fazendo a previsão até o final do Ano\n",
        "Previsao_Final_Ano = Funcao_Auto_Arima.predict( n_periods=6 )"
      ],
      "execution_count": 23,
      "outputs": []
    },
    {
      "cell_type": "code",
      "metadata": {
        "id": "hrEcZQy3CAAq"
      },
      "source": [
        "# Lista para receeber as datas Futuas\n",
        "Lista_Datas_Futuras = []\n",
        "\n",
        "# Loop para gerar as datas\n",
        "for Loop in range(7,13):\n",
        "  # Somando as datas\n",
        "  Proxima_Data = Registro_Inicial + relativedelta(month=Loop)\n",
        "\n",
        "  # Salvando na Lista\n",
        "  Lista_Datas_Futuras.append( Proxima_Data )"
      ],
      "execution_count": 24,
      "outputs": []
    },
    {
      "cell_type": "code",
      "metadata": {
        "id": "hA5Au7BYDnbG"
      },
      "source": [
        "# Incluindo os dados de previsão em um data frame\n",
        "Base_Futura = pd.DataFrame( Previsao_Final_Ano, index=Lista_Datas_Futuras, columns=['Futuro'])"
      ],
      "execution_count": 25,
      "outputs": []
    },
    {
      "cell_type": "code",
      "metadata": {
        "colab": {
          "base_uri": "https://localhost:8080/",
          "height": 404
        },
        "id": "qEyp68M4EC3r",
        "outputId": "cf65713c-1807-479d-b216-c3ac214f1e77"
      },
      "source": [
        "# Plotar o historio com o realizado\n",
        "plt.figure( figsize=(15,6) )\n",
        "plt.title('Projeção de Feminicídio - Estado de São Paulo')\n",
        "plt.xlabel('Quantidade')\n",
        "plt.ylabel('Periodo')\n",
        "plt.plot( Base_Feminicídio['Quantidade'], color='blue' )\n",
        "plt.plot( Base_Futura, color='red' );"
      ],
      "execution_count": 26,
      "outputs": [
        {
          "output_type": "display_data",
          "data": {
            "image/png": "[encoded data removed]",
            "text/plain": [
              "<Figure size 1080x432 with 1 Axes>"
            ]
          },
          "metadata": {
            "needs_background": "light"
          }
        }
      ]
    },
    {
      "cell_type": "code",
      "metadata": {
        "id": "Nl0aO8gjEa6O"
      },
      "source": [
        ""
      ],
      "execution_count": null,
      "outputs": []
    }
  ]
}